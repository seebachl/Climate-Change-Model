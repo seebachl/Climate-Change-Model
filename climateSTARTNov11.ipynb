{
 "cells": [
  {
   "cell_type": "code",
   "execution_count": 16,
   "id": "4c5c90ee-6ea2-4f14-a3c8-5271b97b1a21",
   "metadata": {},
   "outputs": [],
   "source": [
    "### subroutine to plot the model as a grid\n",
    "import matplotlib.pyplot as plt\n",
    "\n",
    "def plot_grid(name):\n",
    "    plt.rcParams['figure.figsize'] = [4,4]  ## sets the size of the image\n",
    "\n",
    "    fig, ax = plt.subplots()\n",
    "    ax.imshow(name)\n",
    "\n",
    "    # Set ticks and labels \n",
    "    ax.set_xticks(np.arange(0.5, n, 1))\n",
    "    ax.set_yticks(np.arange(0.5, n, 1))\n",
    "    ax.tick_params(bottom=False, top=False, left=False, right=False)\n",
    "    ax.set_xticklabels([])\n",
    "    ax.set_yticklabels([])\n",
    "    # add grid lines  \n",
    "    ax.grid(color='black', linewidth=0.3)\n",
    "    plt.show()\n",
    "    return"
   ]
  },
  {
   "cell_type": "code",
   "execution_count": 17,
   "id": "4de610d2",
   "metadata": {
    "scrolled": true
   },
   "outputs": [
    {
     "name": "stdout",
     "output_type": "stream",
     "text": [
      "[[[0.         0.47843137 0.25490196]\n",
      "  [0.         0.47843137 0.25490196]\n",
      "  [0.         0.47843137 0.25490196]\n",
      "  [0.         0.47843137 0.25490196]\n",
      "  [0.         0.47843137 0.25490196]\n",
      "  [0.         0.47843137 0.25490196]]\n",
      "\n",
      " [[0.         0.47843137 0.25490196]\n",
      "  [0.         0.47843137 0.25490196]\n",
      "  [0.         0.47843137 0.25490196]\n",
      "  [0.         0.47843137 0.25490196]\n",
      "  [0.         0.47843137 0.25490196]\n",
      "  [0.         0.47843137 0.25490196]]\n",
      "\n",
      " [[0.         0.47843137 0.25490196]\n",
      "  [0.         0.47843137 0.25490196]\n",
      "  [0.         0.47843137 0.25490196]\n",
      "  [0.         0.47843137 0.25490196]\n",
      "  [0.         0.47843137 0.25490196]\n",
      "  [0.         0.47843137 0.25490196]]\n",
      "\n",
      " [[0.         0.47843137 0.25490196]\n",
      "  [0.         0.47843137 0.25490196]\n",
      "  [0.         0.47843137 0.25490196]\n",
      "  [0.         0.47843137 0.25490196]\n",
      "  [0.         0.47843137 0.25490196]\n",
      "  [0.         0.47843137 0.25490196]]\n",
      "\n",
      " [[0.         0.47843137 0.25490196]\n",
      "  [0.         0.47843137 0.25490196]\n",
      "  [0.         0.47843137 0.25490196]\n",
      "  [0.         0.47843137 0.25490196]\n",
      "  [0.         0.47843137 0.25490196]\n",
      "  [0.         0.47843137 0.25490196]]\n",
      "\n",
      " [[0.         0.47843137 0.25490196]\n",
      "  [0.         0.47843137 0.25490196]\n",
      "  [0.         0.47843137 0.25490196]\n",
      "  [0.         0.47843137 0.25490196]\n",
      "  [0.         0.47843137 0.25490196]\n",
      "  [0.         0.47843137 0.25490196]]]\n"
     ]
    }
   ],
   "source": [
    "## \n",
    "import matplotlib.pyplot as plt\n",
    "import numpy as np\n",
    "import numpy.random as random\n",
    "import math\n",
    "##############################################################  setup\n",
    "m = 100 #years\n",
    "\n",
    "n= 6 ## number of grid points is n*n\n",
    "\n",
    "ocean=np.array([14/255,0/255,117/255])   \n",
    "shallowocean =np.array([116/255,132/255,252/255])\n",
    "glacier=np.array([191/255,232/255,255/255]) ## ice on land (glacier)\n",
    "icefloat=np.array([0.9,0.9,1])  ## sea ice  \n",
    "land=np.array([0/255,122/255,65/255]) \n",
    "lowland=np.array([255/255,210/255,150/255])\n",
    "destroyedland=np.array([1,0,0]) # for later\n",
    "\n",
    "geography={'ocean':ocean,'shallowocean':shallowocean,'glacier':glacier,'icefloat':icefloat,\\\n",
    "      'land':land,'lowland':lowland}\n",
    "\n",
    "######################################  initiaize model (geography)\n",
    "background=[[land]*n]*n\n",
    "grid_colours=background.copy()\n",
    "clim_model=np.array(grid_colours)  ## initializes the model to all land\n",
    "print(clim_model)\n",
    "\n",
    "#clim_model[1,2]=shallowocean\n",
    "#clim_model[2,0]=glacier\n",
    "#clim_model[2,2]=lowland\n",
    "\n",
    "\n",
    "\n",
    "######################################  initialize temperature\n",
    "\n",
    "#init_temperature=np.array([[0]*n]*n)\n",
    "#print(\"initial temperature anomaly:\\n\", init_temperature)\n",
    "\n",
    "##### values from NOAA \n",
    "## https://www.ncei.noaa.gov/access/monitoring/climate-at-a-glance/global/time-series/globe/ocean/ytd/12/1850-2022\n",
    "## uses average annual anomaly change from 1981-2022\n",
    "land_temp_inc = 0.027 #average annual land temp increase \n",
    "ocean_temp_inc = 0.0093 #average annual ocean temp increase \n",
    "\n",
    "\n",
    "\n",
    "\n",
    "######################################  plot\n",
    "#plot_grid(clim_model)\n"
   ]
  },
  {
   "cell_type": "code",
   "execution_count": 3,
   "id": "84fbfb9a-5064-478e-b034-4ec0ae4e15c4",
   "metadata": {},
   "outputs": [
    {
     "data": {
      "text/plain": [
       "'land_temp_over_time=[]\\nland_temp_over_time.append(init_temperature)\\nt = 100\\nland_temp = init_temperature\\nfor i in range(t):\\n    land_temp = land_temp+[[land_temp_inc]*n]\\n    land_temp_over_time.append(land_temp)\\n\\nland_temp'"
      ]
     },
     "execution_count": 3,
     "metadata": {},
     "output_type": "execute_result"
    }
   ],
   "source": [
    "### land temperature change over time \n",
    "### would like to make temp inc double after 100 years \n",
    "'''land_temp_over_time=[]\n",
    "land_temp_over_time.append(init_temperature)\n",
    "t = 100\n",
    "land_temp = init_temperature\n",
    "for i in range(t):\n",
    "    land_temp = land_temp+[[land_temp_inc]*n]\n",
    "    land_temp_over_time.append(land_temp)\n",
    "\n",
    "land_temp'''"
   ]
  },
  {
   "cell_type": "code",
   "execution_count": 4,
   "id": "853c08c2-b511-4dbf-8ddd-5d02d6f0dd5c",
   "metadata": {},
   "outputs": [
    {
     "data": {
      "text/plain": [
       "'ocean_temp_over_time=[]\\nocean_temp_over_time.append(init_temperature)\\nt = 100\\nocean_temp = init_temperature\\nfor i in range(t):\\n    ocean_temp = ocean_temp+[[ocean_temp_inc]*n]\\n    ocean_temp_over_time.append(ocean_temp)\\n\\nocean_temp'"
      ]
     },
     "execution_count": 4,
     "metadata": {},
     "output_type": "execute_result"
    }
   ],
   "source": [
    "### ocean temperature change over time \n",
    "'''ocean_temp_over_time=[]\n",
    "ocean_temp_over_time.append(init_temperature)\n",
    "t = 100\n",
    "ocean_temp = init_temperature\n",
    "for i in range(t):\n",
    "    ocean_temp = ocean_temp+[[ocean_temp_inc]*n]\n",
    "    ocean_temp_over_time.append(ocean_temp)\n",
    "\n",
    "ocean_temp'''"
   ]
  },
  {
   "cell_type": "code",
   "execution_count": 18,
   "id": "2de1a476-b552-4a36-81a8-c45cabc4d829",
   "metadata": {},
   "outputs": [],
   "source": [
    "## Keeling Curve, CO2 ppm\n",
    "init_CO2 = 307.08\n",
    "CO2_ppm_over_time=[]\n",
    "def CO2(t):\n",
    "    for i in range(t):\n",
    "        CO2_ppm = init_CO2*math.exp(0.0045*i)\n",
    "        CO2_ppm_over_time.append(CO2_ppm)\n",
    "    return CO2_ppm_over_time"
   ]
  },
  {
   "cell_type": "code",
   "execution_count": 68,
   "id": "5ade9847-52c1-4e8d-957f-b0d07fad2973",
   "metadata": {},
   "outputs": [],
   "source": [
    "## Temp Inc Due to GHG\n",
    "## Data rom 1900 to 2005, \n",
    "# https://data.giss.nasa.gov/modelforce/Marvel_etal_2016/\n",
    "init_GHGtemp = 0\n",
    "GHGtemp_over_time=[]\n",
    "GHGtemp_over_time.append(init_GHGtemp)\n",
    "def GHG_effect(t):\n",
    "    for i in range(1,t):\n",
    "        GHG_temp = 0.1077*math.exp(0.0234*i)\n",
    "        GHGtemp_over_time.append(GHG_temp)\n",
    "    return GHGtemp_over_time\n",
    "\n",
    "GHG_temp = GHG_effect(m)"
   ]
  },
  {
   "cell_type": "code",
   "execution_count": 67,
   "id": "dbe73eab-5672-4483-9e47-385fd4b6351a",
   "metadata": {},
   "outputs": [],
   "source": [
    "## Temp Inc Due to combined solar and volcanic activity\n",
    "## Data rom 1900 to 2005, \n",
    "# https://data.giss.nasa.gov/modelforce/Marvel_etal_2016/\n",
    "init_nat_temp = 0\n",
    "nattemp_over_time=[]\n",
    "nattemp_over_time.append(init_nat_temp)\n",
    "def natural_effect(t):\n",
    "    i = 1\n",
    "    while i<100:\n",
    "        natural_temp = (2.788e-10)*(i**5)-3.017e-8*(i**4)-1.161e-6*(i**3)+0.0001648*(i**2)-0.002152*i\n",
    "        nattemp_over_time.append(natural_temp)\n",
    "        i = i + 1\n",
    "    if t>100: # if t is greater than 100, the list begins to repeat itself\n",
    "        nattemp_over_time.extend(nattemp_over_time[1:t-100])\n",
    "    return nattemp_over_time\n",
    "    \n",
    "nat_temp = natural_effect(m)"
   ]
  },
  {
   "cell_type": "code",
   "execution_count": 8,
   "id": "10e91d1b-c840-4bca-aba1-9d108601a0eb",
   "metadata": {},
   "outputs": [],
   "source": [
    "# hypothetical precipitation data\n",
    "precip_init = 0\n",
    "precip_over_time = []\n",
    "precip_over_time.append(precip_init)\n",
    "def precip(t):\n",
    "    for i in range(t):\n",
    "        precip_amt = np.sin(2*i)-2*np.cos(0.7*i)-0.35\n",
    "        precip_over_time.append(precip_amt)\n",
    "    return precip_over_time\n",
    "\n",
    "def precip_intensity(t):\n",
    "    precip(t)\n",
    "    intensity_sum = [0]*(len(precip_over_time))\n",
    "    for i in range(len(precip_over_time)):\n",
    "        intensity_sum[i] = intensity_sum[i-1] + precip_over_time[i]\n",
    "    return intensity_sum\n",
    "\n",
    "precip_int = precip_intensity(m)"
   ]
  },
  {
   "cell_type": "code",
   "execution_count": 52,
   "id": "e2ffac4a-90e2-418d-97f8-9c180b7adff6",
   "metadata": {},
   "outputs": [
    {
     "name": "stdout",
     "output_type": "stream",
     "text": [
      "[[0. 0. 0. 0. 0. 0.]\n",
      " [0. 0. 0. 0. 0. 0.]\n",
      " [0. 0. 0. 0. 0. 0.]\n",
      " [0. 0. 0. 0. 0. 0.]\n",
      " [0. 0. 0. 0. 0. 0.]\n",
      " [0. 0. 0. 0. 0. 0.]]\n"
     ]
    }
   ],
   "source": [
    "##### turning lists into matrices\n",
    "## GHG Temperature Anomaly Contribution \n",
    "GHG_matrix_over_time = np.zeros((n,n,m))\n",
    "for t in range(m):\n",
    "    for i in range(n):\n",
    "        for j in range(n):\n",
    "            GHG_matrix_over_time[i,j,t] = GHG_temp[t]\n",
    "\n",
    "## Natural Temperature Anomaly Contribution\n",
    "nat_matrix_over_time = np.zeros((n,n,m))\n",
    "for t in range(m):\n",
    "    for i in range(n):\n",
    "        for j in range(n):\n",
    "            nat_matrix_over_time[i,j,t] = nat_temp[t]\n",
    "\n",
    "## Precipitation Intensity\n",
    "precip_matrix_over_time = np.zeros((n,n,m))\n",
    "for t in range(m):\n",
    "    for i in range(n):\n",
    "        for j in range(n):\n",
    "            precip_matrix_over_time[i,j,t] = precip_int[t]"
   ]
  },
  {
   "cell_type": "code",
   "execution_count": 59,
   "id": "f41db888-1d5a-4ae7-aafd-339ae4452c12",
   "metadata": {},
   "outputs": [
    {
     "name": "stdout",
     "output_type": "stream",
     "text": [
      "lowland\n",
      "lowland\n",
      "lowland\n",
      "100\n",
      "[[-34.49001337 -34.49001337 -34.49001337 -34.49001337 -34.49001337]\n",
      " [-34.49001337 -34.49001337 -34.49001337 -34.49001337 -34.49001337]\n",
      " [-34.49001337 -34.49001337 -34.49001337 -34.49001337 -34.49001337]\n",
      " [-34.49001337 -34.49001337 -34.49001337 -34.49001337 -34.49001337]\n",
      " [-34.49001337 -34.49001337 -34.49001337 -34.49001337 -34.49001337]]\n",
      "[[1.12108208 1.12108208 1.12108208 1.12108208 1.12108208]\n",
      " [1.12108208 1.12108208 1.12108208 1.12108208 1.12108208]\n",
      " [1.12108208 1.12108208 1.12108208 1.12108208 1.12108208]\n",
      " [1.12108208 1.12108208 1.12108208 1.12108208 1.12108208]\n",
      " [1.12108208 1.12108208 1.12108208 1.12108208 1.12108208]]\n"
     ]
    }
   ],
   "source": [
    "def what_is(x,y):  ##inquires about the colour (nature) of a cell in the model grid\n",
    "    for k,v in geography.items():\n",
    "        if np.all(clim_model[x,y]==np.array(v)):\n",
    "            whatis=k\n",
    "    return whatis\n",
    "\n",
    "print(what_is(3,2))\n",
    "print(what_is(1,2))\n",
    "print(what_is(3,3))"
   ]
  },
  {
   "cell_type": "code",
   "execution_count": 66,
   "id": "13c7ca4d-aaf1-418c-ad2f-fb667668b3b9",
   "metadata": {},
   "outputs": [
    {
     "name": "stdout",
     "output_type": "stream",
     "text": [
      "land\n"
     ]
    },
    {
     "data": {
      "image/png": "[encoded data removed]",
      "text/plain": [
       "<Figure size 400x400 with 1 Axes>"
      ]
     },
     "metadata": {},
     "output_type": "display_data"
    },
    {
     "data": {
      "image/png": "[encoded data removed]",
      "text/plain": [
       "<Figure size 400x400 with 1 Axes>"
      ]
     },
     "metadata": {},
     "output_type": "display_data"
    }
   ],
   "source": [
    "clim_model=np.array(grid_colours)  ## initializes the model to all land\n",
    "model_over_time=[]\n",
    "model_over_time.append(clim_model)\n",
    "print(what_is(2,2))\n",
    "\n",
    "for t in range(m):\n",
    "    for i in range(n):\n",
    "        for j in range(n):\n",
    "            g=what_is(i,j)\n",
    "            if g=='land':\n",
    "                if precip_matrix_over_time[i,j,t] < -10 and GHG_matrix_over_time[i,j,t]+nat_matrix_over_time[i,j,t] > 1: # and random.random_sample() > 0\n",
    "                    clim_model[i,j] = destroyedland\n",
    "                else:\n",
    "                    clim_model[i,j] = lowland\n",
    "            elif g=='ocean':\n",
    "                clim_model[i,j]=shallowocean\n",
    "    model_over_time.append(clim_model)\n",
    "plot_grid(model_over_time[0])\n",
    "\n",
    "plot_grid(model_over_time[99])\n",
    "##########  plotting\n",
    "#fig, ax = plt.subplots()\n",
    "#ax.imshow(model_over_time[99])\n",
    "\n",
    "# Set ticks and labels (not really needed)\n",
    "ax.set_xticks(np.arange(0.5, n, 1))\n",
    "ax.set_yticks(np.arange(0.5, n, 1))\n",
    "ax.tick_params(bottom=False, top=False, left=False, right=False)\n",
    "ax.set_xticklabels([])\n",
    "ax.set_yticklabels([])\n",
    "# add grid lines  \n",
    "ax.grid(color='black', linewidth=0.3)\n",
    "plt.show()            \n",
    "    "
   ]
  }
 ],
 "metadata": {
  "kernelspec": {
   "display_name": "Python 3 (ipykernel)",
   "language": "python",
   "name": "python3"
  },
  "language_info": {
   "codemirror_mode": {
    "name": "ipython",
    "version": 3
   },
   "file_extension": ".py",
   "mimetype": "text/x-python",
   "name": "python",
   "nbconvert_exporter": "python",
   "pygments_lexer": "ipython3",
   "version": "3.11.4"
  }
 },
 "nbformat": 4,
 "nbformat_minor": 5
}
