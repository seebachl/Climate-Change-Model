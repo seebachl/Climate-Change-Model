{
 "cells": [
  {
   "cell_type": "code",
   "execution_count": null,
   "id": "a054fe64-353c-461f-bf6c-498a8101abd6",
   "metadata": {},
   "outputs": [],
   "source": []
  },
  {
   "cell_type": "code",
   "execution_count": null,
   "id": "2482b088-0937-487a-a6f9-75e8a1029a29",
   "metadata": {},
   "outputs": [],
   "source": []
  },
  {
   "cell_type": "code",
   "execution_count": 2,
   "id": "4c5c90ee-6ea2-4f14-a3c8-5271b97b1a21",
   "metadata": {},
   "outputs": [],
   "source": [
    "### subroutine to plot the model as a grid\n",
    "import matplotlib.pyplot as plt\n",
    "\n",
    "def plot_grid(name):\n",
    "    plt.rcParams['figure.figsize'] = [4,4]  ## sets the size of the image\n",
    "\n",
    "    fig, ax = plt.subplots()\n",
    "    ax.imshow(name)\n",
    "\n",
    "    # Set ticks and labels \n",
    "    ax.set_xticks(np.arange(0.5, n, 1))\n",
    "    ax.set_yticks(np.arange(0.5, n, 1))\n",
    "    ax.tick_params(bottom=False, top=False, left=False, right=False)\n",
    "    ax.set_xticklabels([])\n",
    "    ax.set_yticklabels([])\n",
    "    # add grid lines  \n",
    "    ax.grid(color='black', linewidth=0.3)\n",
    "    plt.show()\n",
    "    return"
   ]
  },
  {
   "cell_type": "code",
   "execution_count": null,
   "id": "40f5a9f5-a98f-46a2-b6eb-450a85420f03",
   "metadata": {},
   "outputs": [],
   "source": []
  },
  {
   "cell_type": "code",
   "execution_count": 3,
   "id": "4de610d2",
   "metadata": {
    "scrolled": true
   },
   "outputs": [
    {
     "name": "stdout",
     "output_type": "stream",
     "text": [
      "[[[0.         0.47843137 0.25490196]\n",
      "  [0.         0.47843137 0.25490196]\n",
      "  [0.         0.47843137 0.25490196]\n",
      "  [0.         0.47843137 0.25490196]]\n",
      "\n",
      " [[0.         0.47843137 0.25490196]\n",
      "  [0.         0.47843137 0.25490196]\n",
      "  [0.         0.47843137 0.25490196]\n",
      "  [0.         0.47843137 0.25490196]]\n",
      "\n",
      " [[0.         0.47843137 0.25490196]\n",
      "  [0.         0.47843137 0.25490196]\n",
      "  [0.         0.47843137 0.25490196]\n",
      "  [0.         0.47843137 0.25490196]]\n",
      "\n",
      " [[0.         0.47843137 0.25490196]\n",
      "  [0.         0.47843137 0.25490196]\n",
      "  [0.         0.47843137 0.25490196]\n",
      "  [0.         0.47843137 0.25490196]]]\n",
      "initial temperature anomaly:\n",
      " [[0 0 0 0]\n",
      " [0 0 0 0]\n",
      " [0 0 0 0]\n",
      " [0 0 0 0]]\n"
     ]
    },
    {
     "data": {
      "image/png": "[encoded data removed]",
      "text/plain": [
       "<Figure size 400x400 with 1 Axes>"
      ]
     },
     "metadata": {},
     "output_type": "display_data"
    }
   ],
   "source": [
    "## \n",
    "import matplotlib.pyplot as plt\n",
    "import numpy as np\n",
    "##############################################################  setup\n",
    "\n",
    "\n",
    "n=4 ## number of grid points is n*n\n",
    "\n",
    "ocean=np.array([14/255,0/255,117/255])   \n",
    "shallowocean =np.array([116/255,132/255,252/255])\n",
    "glacier=np.array([191/255,232/255,255/255]) ## ice on land (glacier)\n",
    "icefloat=np.array([0.9,0.9,1])  ## sea ice  \n",
    "land=np.array([0/255,122/255,65/255]) \n",
    "lowland=np.array([255/255,210/255,150/255])\n",
    "destroyedland=np.array([1,0,0]) # for later\n",
    "\n",
    "geography={'ocean':ocean,'shallowocean':shallowocean,'glacier':glacier,'icefloat':icefloat,\\\n",
    "      'land':land,'lowland':lowland}\n",
    "\n",
    "######################################  initiaize model (geography)\n",
    "background=[[land]*n]*n\n",
    "grid_colours=background.copy()\n",
    "clim_model=np.array(grid_colours)  ## initializes the model to all land\n",
    "print(clim_model)\n",
    "\n",
    "#clim_model[1,2]=shallowocean\n",
    "#clim_model[2,0]=glacier\n",
    "#clim_model[2,2]=lowland\n",
    "\n",
    "model_over_time=[]\n",
    "model_over_time.append(clim_model)\n",
    "\n",
    "######################################  initialize temperature\n",
    "\n",
    "init_temperature=np.array([[0]*n]*n)\n",
    "print(\"initial temperature anomaly:\\n\", init_temperature)\n",
    "temp_inc = 0.018 #average annual temp increase \n",
    "temp_over_time=[]\n",
    "temp_over_time.append(init_temperature)\n",
    "\n",
    "######################################  plot\n",
    "plot_grid(clim_model)\n"
   ]
  },
  {
   "cell_type": "code",
   "execution_count": 4,
   "id": "84fbfb9a-5064-478e-b034-4ec0ae4e15c4",
   "metadata": {},
   "outputs": [
    {
     "data": {
      "text/plain": [
       "array([[1.8, 1.8, 1.8, 1.8],\n",
       "       [1.8, 1.8, 1.8, 1.8],\n",
       "       [1.8, 1.8, 1.8, 1.8],\n",
       "       [1.8, 1.8, 1.8, 1.8]])"
      ]
     },
     "execution_count": 4,
     "metadata": {},
     "output_type": "execute_result"
    }
   ],
   "source": [
    "### temperature change over time \n",
    "t = 100\n",
    "temp_at_t = init_temperature\n",
    "for i in range(t):\n",
    "    temp_at_t = temp_at_t+[[temp_inc]*n]\n",
    "    temp_over_time.append(temp_at_t)\n",
    "\n",
    "    \n",
    "temp_at_t"
   ]
  },
  {
   "cell_type": "code",
   "execution_count": 5,
   "id": "f41db888-1d5a-4ae7-aafd-339ae4452c12",
   "metadata": {},
   "outputs": [
    {
     "name": "stdout",
     "output_type": "stream",
     "text": [
      "land\n",
      "land\n",
      "land\n"
     ]
    }
   ],
   "source": [
    "def what_is(x,y):  ##inquires about the colour (nature) of a cell in the model grid\n",
    "    for k,v in geography.items():\n",
    "        if np.all(clim_model[x,y]==np.array(v)):\n",
    "            whatis=k\n",
    "    return whatis\n",
    "\n",
    "print(what_is(3,2))\n",
    "print(what_is(1,2))\n",
    "print(what_is(3,3))"
   ]
  },
  {
   "cell_type": "code",
   "execution_count": 6,
   "id": "d14ac9b7-8f25-43a8-a560-bca32fdecaf0",
   "metadata": {},
   "outputs": [
    {
     "data": {
      "image/png": "[encoded data removed]",
      "text/plain": [
       "<Figure size 400x400 with 1 Axes>"
      ]
     },
     "metadata": {},
     "output_type": "display_data"
    },
    {
     "name": "stdout",
     "output_type": "stream",
     "text": [
      "[[[1.         0.82352941 0.58823529]\n",
      "  [1.         0.82352941 0.58823529]\n",
      "  [1.         0.82352941 0.58823529]\n",
      "  [1.         0.82352941 0.58823529]]\n",
      "\n",
      " [[1.         0.82352941 0.58823529]\n",
      "  [1.         0.82352941 0.58823529]\n",
      "  [1.         0.82352941 0.58823529]\n",
      "  [1.         0.82352941 0.58823529]]\n",
      "\n",
      " [[1.         0.82352941 0.58823529]\n",
      "  [1.         0.82352941 0.58823529]\n",
      "  [1.         0.82352941 0.58823529]\n",
      "  [1.         0.82352941 0.58823529]]\n",
      "\n",
      " [[1.         0.82352941 0.58823529]\n",
      "  [1.         0.82352941 0.58823529]\n",
      "  [1.         0.82352941 0.58823529]\n",
      "  [1.         0.82352941 0.58823529]]]\n"
     ]
    },
    {
     "data": {
      "image/png": "[encoded data removed]",
      "text/plain": [
       "<Figure size 400x400 with 1 Axes>"
      ]
     },
     "metadata": {},
     "output_type": "display_data"
    }
   ],
   "source": [
    "for i in range(n):\n",
    "    for j in range(n):\n",
    "        g=what_is(i,j)\n",
    "        if g=='land':\n",
    "            clim_model[i,j]=lowland\n",
    "        elif g=='ocean':\n",
    "            clim_model[i,j]=shallowocean\n",
    "\n",
    "plot_grid(clim_model)\n",
    "print(clim_model)\n",
    "##########  plotting\n",
    "fig, ax = plt.subplots()\n",
    "ax.imshow(clim_model)\n",
    "\n",
    "# Set ticks and labels (not really needed)\n",
    "ax.set_xticks(np.arange(0.5, n, 1))\n",
    "ax.set_yticks(np.arange(0.5, n, 1))\n",
    "ax.tick_params(bottom=False, top=False, left=False, right=False)\n",
    "ax.set_xticklabels([])\n",
    "ax.set_yticklabels([])\n",
    "# add grid lines  \n",
    "ax.grid(color='black', linewidth=0.3)\n",
    "plt.show()            \n",
    "    "
   ]
  },
  {
   "cell_type": "code",
   "execution_count": null,
   "id": "ccee8e7b-944c-406a-bea4-691cc04beaae",
   "metadata": {},
   "outputs": [],
   "source": []
  },
  {
   "cell_type": "code",
   "execution_count": null,
   "id": "0e3b745f",
   "metadata": {},
   "outputs": [],
   "source": []
  },
  {
   "cell_type": "code",
   "execution_count": null,
   "id": "30b6ceac",
   "metadata": {},
   "outputs": [],
   "source": []
  },
  {
   "cell_type": "code",
   "execution_count": null,
   "id": "e50103e3",
   "metadata": {},
   "outputs": [],
   "source": []
  },
  {
   "cell_type": "code",
   "execution_count": null,
   "id": "79002803",
   "metadata": {},
   "outputs": [],
   "source": []
  },
  {
   "cell_type": "code",
   "execution_count": null,
   "id": "cf0032a0",
   "metadata": {},
   "outputs": [],
   "source": []
  },
  {
   "cell_type": "code",
   "execution_count": null,
   "id": "440c6863",
   "metadata": {},
   "outputs": [],
   "source": []
  }
 ],
 "metadata": {
  "kernelspec": {
   "display_name": "Python 3 (ipykernel)",
   "language": "python",
   "name": "python3"
  },
  "language_info": {
   "codemirror_mode": {
    "name": "ipython",
    "version": 3
   },
   "file_extension": ".py",
   "mimetype": "text/x-python",
   "name": "python",
   "nbconvert_exporter": "python",
   "pygments_lexer": "ipython3",
   "version": "3.11.4"
  }
 },
 "nbformat": 4,
 "nbformat_minor": 5
}
