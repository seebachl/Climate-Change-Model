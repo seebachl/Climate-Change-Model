{
 "cells": [
  {
   "cell_type": "code",
   "execution_count": null,
   "id": "a054fe64-353c-461f-bf6c-498a8101abd6",
   "metadata": {},
   "outputs": [],
   "source": []
  },
  {
   "cell_type": "code",
   "execution_count": null,
   "id": "2482b088-0937-487a-a6f9-75e8a1029a29",
   "metadata": {},
   "outputs": [],
   "source": []
  },
  {
   "cell_type": "code",
   "execution_count": 57,
   "id": "4c5c90ee-6ea2-4f14-a3c8-5271b97b1a21",
   "metadata": {},
   "outputs": [],
   "source": [
    "### subroutine to plot the model as a grid\n",
    "import matplotlib.pyplot as plt\n",
    "\n",
    "def plot_grid(name):\n",
    "    plt.rcParams['figure.figsize'] = [4,4]  ## sets the size of the image\n",
    "\n",
    "    fig, ax = plt.subplots()\n",
    "    ax.imshow(name)\n",
    "\n",
    "    # Set ticks and labels \n",
    "    ax.set_xticks(np.arange(0.5, n, 1))\n",
    "    ax.set_yticks(np.arange(0.5, n, 1))\n",
    "    ax.tick_params(bottom=False, top=False, left=False, right=False)\n",
    "    ax.set_xticklabels([])\n",
    "    ax.set_yticklabels([])\n",
    "    # add grid lines  \n",
    "    ax.grid(color='black', linewidth=0.3)\n",
    "    plt.show()\n",
    "    return"
   ]
  },
  {
   "cell_type": "code",
   "execution_count": null,
   "id": "40f5a9f5-a98f-46a2-b6eb-450a85420f03",
   "metadata": {},
   "outputs": [],
   "source": []
  },
  {
   "cell_type": "code",
   "execution_count": 58,
   "id": "4de610d2",
   "metadata": {},
   "outputs": [
    {
     "name": "stdout",
     "output_type": "stream",
     "text": [
      "[[[0.         0.4        0.8       ]\n",
      "  [0.         0.4        0.8       ]\n",
      "  [0.         0.4        0.8       ]\n",
      "  [0.         0.4        0.8       ]]\n",
      "\n",
      " [[0.         0.4        0.8       ]\n",
      "  [0.         0.4        0.8       ]\n",
      "  [0.76862745 0.94509804 0.96078431]\n",
      "  [0.         0.4        0.8       ]]\n",
      "\n",
      " [[0.4        0.2        0.        ]\n",
      "  [0.         0.4        0.8       ]\n",
      "  [0.         0.4        0.8       ]\n",
      "  [0.         0.4        0.8       ]]\n",
      "\n",
      " [[0.         0.4        0.8       ]\n",
      "  [0.         0.4        0.8       ]\n",
      "  [0.         0.4        0.8       ]\n",
      "  [0.         0.4        0.8       ]]]\n",
      "initial temperature anomaly:\n",
      " [[0 0 0 0]\n",
      " [0 0 0 0]\n",
      " [0 0 0 0]\n",
      " [0 0 0 0]]\n"
     ]
    },
    {
     "data": {
      "image/png": "[encoded data removed]",
      "text/plain": [
       "<Figure size 400x400 with 1 Axes>"
      ]
     },
     "metadata": {},
     "output_type": "display_data"
    }
   ],
   "source": [
    "## \n",
    "import matplotlib.pyplot as plt\n",
    "import numpy as np\n",
    "##############################################################  setup\n",
    "\n",
    "\n",
    "n=4 ## number of grid points is n*n\n",
    "\n",
    "ocean=np.array([0/255,102/255,204/255])   \n",
    "shallowocean =np.array([102/255,178/255,255/255])\n",
    "glacier=np.array([196/255,241/255,245/255]) ## ice on land (glacier)\n",
    "icefloat=np.array([0.9,0.9,1])  ## sea ice  \n",
    "land=np.array([102/255,51/255,0/255]) \n",
    "lowland=np.array([255/255,178/255,102/255])\n",
    "destroyedland=np.array([1,0,0]) # for later\n",
    "\n",
    "geography={'ocean':ocean,'shallowocean':shallowocean,'glacier':glacier,'icefloat':icefloat,\\\n",
    "      'land':land,'lowland':lowland}\n",
    "\n",
    "######################################  initiaize model (geography)\n",
    "background=[[ocean]*n]*n\n",
    "grid_colours=background.copy()\n",
    "clim_model=np.array(grid_colours)  ## initializes the model to all ocean\n",
    "\n",
    "clim_model[1,2]=glacier\n",
    "clim_model[2,0]=land\n",
    "print(clim_model)\n",
    "\n",
    "model_over_time=[]\n",
    "model_over_time.append(clim_model)\n",
    "\n",
    "######################################  initialize temperature\n",
    "\n",
    "init_temperature=np.array([[0]*n]*n)\n",
    "print(\"initial temperature anomaly:\\n\", init_temperature)\n",
    "temp_over_time=[]\n",
    "temp_over_time.append(init_temperature)\n",
    "\n",
    "\n",
    "\n",
    "######################################  plot\n",
    "plot_grid(clim_model)\n"
   ]
  },
  {
   "cell_type": "code",
   "execution_count": null,
   "id": "84fbfb9a-5064-478e-b034-4ec0ae4e15c4",
   "metadata": {},
   "outputs": [],
   "source": []
  },
  {
   "cell_type": "code",
   "execution_count": 59,
   "id": "f41db888-1d5a-4ae7-aafd-339ae4452c12",
   "metadata": {},
   "outputs": [
    {
     "name": "stdout",
     "output_type": "stream",
     "text": [
      "ocean\n",
      "glacier\n",
      "ocean\n"
     ]
    }
   ],
   "source": [
    "def what_is(x,y):  ##inquires about the colour (nature) of a cell in the model grid\n",
    "    for k,v in geography.items():\n",
    "        if np.all(clim_model[x,y]==np.array(v)):\n",
    "            whatis=k\n",
    "    return whatis\n",
    "\n",
    "print(what_is(2,2))\n",
    "print(what_is(1,2))\n",
    "print(what_is(3,3))"
   ]
  },
  {
   "cell_type": "code",
   "execution_count": 60,
   "id": "b5b41233-c4a4-4493-8af3-6c5fcdbcb502",
   "metadata": {},
   "outputs": [
    {
     "data": {
      "image/png": "[encoded data removed]",
      "text/plain": [
       "<Figure size 400x400 with 1 Axes>"
      ]
     },
     "metadata": {},
     "output_type": "display_data"
    }
   ],
   "source": [
    "for i in range(n):\n",
    "    for j in range(n):\n",
    "        g=what_is(i,j)\n",
    "        if g=='land':\n",
    "            clim_model[i,j]=lowland\n",
    "        elif g=='ocean':\n",
    "            clim_model[i,j]=shallowocean\n",
    "\n",
    "##########  plotting\n",
    "fig, ax = plt.subplots()\n",
    "ax.imshow(clim_model)\n",
    "\n",
    "# Set ticks and labels (not really needed)\n",
    "ax.set_xticks(np.arange(0.5, n, 1))\n",
    "ax.set_yticks(np.arange(0.5, n, 1))\n",
    "ax.tick_params(bottom=False, top=False, left=False, right=False)\n",
    "ax.set_xticklabels([])\n",
    "ax.set_yticklabels([])\n",
    "# add grid lines  \n",
    "ax.grid(color='black', linewidth=0.3)\n",
    "plt.show()            \n",
    "    "
   ]
  },
  {
   "cell_type": "code",
   "execution_count": null,
   "id": "ccee8e7b-944c-406a-bea4-691cc04beaae",
   "metadata": {},
   "outputs": [],
   "source": []
  },
  {
   "cell_type": "code",
   "execution_count": null,
   "id": "0e3b745f",
   "metadata": {},
   "outputs": [],
   "source": []
  },
  {
   "cell_type": "code",
   "execution_count": null,
   "id": "30b6ceac",
   "metadata": {},
   "outputs": [],
   "source": []
  },
  {
   "cell_type": "code",
   "execution_count": null,
   "id": "e50103e3",
   "metadata": {},
   "outputs": [],
   "source": []
  },
  {
   "cell_type": "code",
   "execution_count": null,
   "id": "79002803",
   "metadata": {},
   "outputs": [],
   "source": []
  },
  {
   "cell_type": "code",
   "execution_count": null,
   "id": "cf0032a0",
   "metadata": {},
   "outputs": [],
   "source": []
  },
  {
   "cell_type": "code",
   "execution_count": null,
   "id": "440c6863",
   "metadata": {},
   "outputs": [],
   "source": []
  }
 ],
 "metadata": {
  "kernelspec": {
   "display_name": "Python 3 (ipykernel)",
   "language": "python",
   "name": "python3"
  },
  "language_info": {
   "codemirror_mode": {
    "name": "ipython",
    "version": 3
   },
   "file_extension": ".py",
   "mimetype": "text/x-python",
   "name": "python",
   "nbconvert_exporter": "python",
   "pygments_lexer": "ipython3",
   "version": "3.11.4"
  }
 },
 "nbformat": 4,
 "nbformat_minor": 5
}
