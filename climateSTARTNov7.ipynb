{
 "cells": [
  {
   "cell_type": "code",
   "execution_count": 86,
   "id": "4c5c90ee-6ea2-4f14-a3c8-5271b97b1a21",
   "metadata": {},
   "outputs": [],
   "source": [
    "### subroutine to plot the model as a grid\n",
    "import matplotlib.pyplot as plt\n",
    "\n",
    "def plot_grid(name):\n",
    "    plt.rcParams['figure.figsize'] = [3,3]  ## sets the size of the image\n",
    "\n",
    "    fig, ax = plt.subplots()\n",
    "    ax.imshow(name)\n",
    "\n",
    "    # Set ticks and labels \n",
    "    ax.set_xticks(np.arange(0.5, n, 1))\n",
    "    ax.set_yticks(np.arange(0.5, n, 1))\n",
    "    ax.tick_params(bottom=False, top=False, left=False, right=False)\n",
    "    ax.set_xticklabels([])\n",
    "    ax.set_yticklabels([])\n",
    "    # add grid lines  \n",
    "    ax.grid(color='black', linewidth=0.3)\n",
    "    plt.show()\n",
    "    return"
   ]
  },
  {
   "cell_type": "code",
   "execution_count": 87,
   "id": "4de610d2",
   "metadata": {
    "scrolled": true
   },
   "outputs": [
    {
     "name": "stdout",
     "output_type": "stream",
     "text": [
      "[[[0.         0.47843137 0.25490196]\n",
      "  [0.         0.47843137 0.25490196]\n",
      "  [0.         0.47843137 0.25490196]]\n",
      "\n",
      " [[0.         0.47843137 0.25490196]\n",
      "  [0.         0.47843137 0.25490196]\n",
      "  [0.         0.47843137 0.25490196]]\n",
      "\n",
      " [[0.         0.47843137 0.25490196]\n",
      "  [0.         0.47843137 0.25490196]\n",
      "  [0.         0.47843137 0.25490196]]]\n"
     ]
    }
   ],
   "source": [
    "## \n",
    "import matplotlib.pyplot as plt\n",
    "import numpy as np\n",
    "import numpy.random as random\n",
    "import math\n",
    "##############################################################  setup\n",
    "m = 100 #years\n",
    "n= 3 ## number of grid points is n*n\n",
    "recovery = 10 # time for destroyed land to recover\n",
    "\n",
    "ocean=np.array([14/255,0/255,117/255])   \n",
    "shallowocean =np.array([116/255,132/255,252/255])\n",
    "glacier=np.array([191/255,232/255,255/255]) ## ice on land (glacier)\n",
    "icefloat=np.array([0.9,0.9,1])  ## sea ice  \n",
    "land=np.array([0/255,122/255,65/255]) \n",
    "lowland=np.array([255/255,210/255,150/255])\n",
    "destroyedland=np.array([1,0,0]) # for later\n",
    "\n",
    "geography={'ocean':ocean,'shallowocean':shallowocean,'glacier':glacier,'icefloat':icefloat,\\\n",
    "      'land':land,'lowland':lowland,'destroyedland':destroyedland}\n",
    "\n",
    "######################################  initiaize model (geography)\n",
    "background=[[land]*n]*n\n",
    "grid_colours=background.copy()\n",
    "clim_model=np.array(grid_colours)  ## initializes the model to all land\n",
    "print(clim_model)\n",
    "\n",
    "#clim_model[1,2]=shallowocean\n",
    "#clim_model[2,0]=glacier\n",
    "#clim_model[2,2]=lowland\n",
    "\n",
    "\n",
    "\n",
    "######################################  initialize temperature\n",
    "\n",
    "#init_temperature=np.array([[0]*n]*n)\n",
    "#print(\"initial temperature anomaly:\\n\", init_temperature)\n",
    "\n",
    "##### values from NOAA \n",
    "## https://www.ncei.noaa.gov/access/monitoring/climate-at-a-glance/global/time-series/globe/ocean/ytd/12/1850-2022\n",
    "## uses average annual anomaly change from 1981-2022\n",
    "land_temp_inc = 0.027 #average annual land temp increase \n",
    "ocean_temp_inc = 0.0093 #average annual ocean temp increase \n",
    "\n",
    "\n",
    "\n",
    "\n",
    "######################################  plot\n",
    "#plot_grid(clim_model)\n"
   ]
  },
  {
   "cell_type": "code",
   "execution_count": 88,
   "id": "84fbfb9a-5064-478e-b034-4ec0ae4e15c4",
   "metadata": {},
   "outputs": [
    {
     "data": {
      "text/plain": [
       "'land_temp_over_time=[]\\nland_temp_over_time.append(init_temperature)\\nt = 100\\nland_temp = init_temperature\\nfor i in range(t):\\n    land_temp = land_temp+[[land_temp_inc]*n]\\n    land_temp_over_time.append(land_temp)\\n\\nland_temp'"
      ]
     },
     "execution_count": 88,
     "metadata": {},
     "output_type": "execute_result"
    }
   ],
   "source": [
    "### land temperature change over time \n",
    "### would like to make temp inc double after 100 years \n",
    "'''land_temp_over_time=[]\n",
    "land_temp_over_time.append(init_temperature)\n",
    "t = 100\n",
    "land_temp = init_temperature\n",
    "for i in range(t):\n",
    "    land_temp = land_temp+[[land_temp_inc]*n]\n",
    "    land_temp_over_time.append(land_temp)\n",
    "\n",
    "land_temp'''"
   ]
  },
  {
   "cell_type": "code",
   "execution_count": 89,
   "id": "853c08c2-b511-4dbf-8ddd-5d02d6f0dd5c",
   "metadata": {},
   "outputs": [
    {
     "data": {
      "text/plain": [
       "'ocean_temp_over_time=[]\\nocean_temp_over_time.append(init_temperature)\\nt = 100\\nocean_temp = init_temperature\\nfor i in range(t):\\n    ocean_temp = ocean_temp+[[ocean_temp_inc]*n]\\n    ocean_temp_over_time.append(ocean_temp)\\n\\nocean_temp'"
      ]
     },
     "execution_count": 89,
     "metadata": {},
     "output_type": "execute_result"
    }
   ],
   "source": [
    "### ocean temperature change over time \n",
    "'''ocean_temp_over_time=[]\n",
    "ocean_temp_over_time.append(init_temperature)\n",
    "t = 100\n",
    "ocean_temp = init_temperature\n",
    "for i in range(t):\n",
    "    ocean_temp = ocean_temp+[[ocean_temp_inc]*n]\n",
    "    ocean_temp_over_time.append(ocean_temp)\n",
    "\n",
    "ocean_temp'''"
   ]
  },
  {
   "cell_type": "code",
   "execution_count": 90,
   "id": "2de1a476-b552-4a36-81a8-c45cabc4d829",
   "metadata": {},
   "outputs": [],
   "source": [
    "## Keeling Curve, CO2 ppm\n",
    "init_CO2 = 307.08\n",
    "CO2_ppm_over_time=[]\n",
    "def CO2(t):\n",
    "    for i in range(t):\n",
    "        CO2_ppm = init_CO2*math.exp(0.0045*i)\n",
    "        CO2_ppm_over_time.append(CO2_ppm)\n",
    "    return CO2_ppm_over_time"
   ]
  },
  {
   "cell_type": "code",
   "execution_count": 91,
   "id": "5ade9847-52c1-4e8d-957f-b0d07fad2973",
   "metadata": {},
   "outputs": [],
   "source": [
    "## Temp Inc Due to GHG\n",
    "## Data rom 1900 to 2005, \n",
    "# https://data.giss.nasa.gov/modelforce/Marvel_etal_2016/\n",
    "init_GHGtemp = 0\n",
    "GHGtemp_over_time=[]\n",
    "GHGtemp_over_time.append(init_GHGtemp)\n",
    "def GHG_effect(t):\n",
    "    for i in range(1,t):\n",
    "        GHG_temp = 0.1077*math.exp(0.0234*i)\n",
    "        GHGtemp_over_time.append(GHG_temp)\n",
    "    return GHGtemp_over_time\n",
    "\n",
    "GHG_temp = GHG_effect(m)"
   ]
  },
  {
   "cell_type": "code",
   "execution_count": 92,
   "id": "dbe73eab-5672-4483-9e47-385fd4b6351a",
   "metadata": {},
   "outputs": [],
   "source": [
    "## Temp Inc Due to combined solar and volcanic activity\n",
    "## Data rom 1900 to 2005, \n",
    "# https://data.giss.nasa.gov/modelforce/Marvel_etal_2016/\n",
    "init_nat_temp = 0\n",
    "nattemp_over_time=[]\n",
    "nattemp_over_time.append(init_nat_temp)\n",
    "def natural_effect(t):\n",
    "    i = 1\n",
    "    while i<100:\n",
    "        natural_temp = (2.788e-10)*(i**5)-3.017e-8*(i**4)-1.161e-6*(i**3)+0.0001648*(i**2)-0.002152*i\n",
    "        nattemp_over_time.append(natural_temp)\n",
    "        i = i + 1\n",
    "    if t>100: # if t is greater than 100, the list begins to repeat itself\n",
    "        nattemp_over_time.extend(nattemp_over_time[1:t-100])\n",
    "    return nattemp_over_time\n",
    "    \n",
    "nat_temp = natural_effect(m)"
   ]
  },
  {
   "cell_type": "code",
   "execution_count": 154,
   "id": "10e91d1b-c840-4bca-aba1-9d108601a0eb",
   "metadata": {},
   "outputs": [
    {
     "name": "stdout",
     "output_type": "stream",
     "text": [
      "-3.8849805202224443\n",
      "0.8236117842280659\n",
      "[0, 1.97, 2.408981801394659, -0.4468682095074463, -1.31910770739864, -0.9250864347139345, -2.4469344854709623, -1.5470945606818354, 1.33363209454002, 1.233228440355434, 1.2187300259951543, 2.3907497594142373, 0.26789641478532655, -1.9741556702399918, -1.1628847537826212, -1.619946755901639, -1.9691054800848469, 0.9274364088791913, 2.0712232784021007, 0.9770903175588941, 1.751866924116727, 0.988587596895016, -2.013690321093869, -1.9182039086689462, -0.9764772524974527, -1.7196118361463981, 0.1465050727189899, 2.549332532624332, 1.4086668856353872, 0.9112211892040865, 1.2029964781693976, -1.4302691415507536, -2.685010308452654, -0.9451300628669316, -0.9479311549126396, -0.4563016387882528, 2.356709669382399, 2.2193013255442975, 0.42448621117200414, 0.7428129711061291, -0.6394600957747584, -2.949100386550508, -1.5382989709412092, -0.15796048947996763, -0.4492196311508123, 1.6378753499487975, 2.8569324787148083, 0.6066196590682168, -0.10202358836383932, -0.19751321096832972, -2.5374314156548246, -2.343750051292772, 0.13414864392627948, 0.1850866245976626, 0.8945310608061394, 2.886648715635132, 1.3178959416427087, -0.7802931207525644, -0.42345752477325405, -1.7356791528610913, -2.8046822392422537, -0.24935944576438848, 1.037740651305091, 0.6447161145737068, 2.286152851804415, 2.0588356257731353, -0.8539688777587126, -1.1823581068696516, -1.0941575797579, -2.5980020833236486, -1.0270891985393225, 1.5514247469275857, 1.0708653664242116, 1.4609107060511726, 2.3095396702166813, -0.2957917409232572, -1.9769810930111344, -1.0539523810611182, -1.8538254531291505, -1.6496704392290213, 1.398996802696885, 1.895865473824173, 0.9686918767397785, 1.8828961343360138, 0.4922172886012903, -2.2855925719798447, -1.6472605835521474, -1.067084076404592, -1.6729880556248184, 0.7057335457645966, 2.5713129359822973, 1.140640527431271, 1.0517025254973729, 0.9518831742731856, -1.9164020511827353, -2.475515591448901, -0.7612884694706789, -1.0599049458206937, -0.035784424395215536, 2.650077692918412, 1.8563080275073545]\n",
      "-2.949100386550508\n"
     ]
    },
    {
     "data": {
      "text/plain": [
       "[<matplotlib.lines.Line2D at 0x7f542425b2d0>]"
      ]
     },
     "execution_count": 154,
     "metadata": {},
     "output_type": "execute_result"
    },
    {
     "data": {
      "image/png": "[encoded data removed]",
      "text/plain": [
       "<Figure size 300x300 with 1 Axes>"
      ]
     },
     "metadata": {},
     "output_type": "display_data"
    }
   ],
   "source": [
    "# hypothetical precipitation data\n",
    "precip_init = 0\n",
    "precip_over_time = []\n",
    "precip_over_time.append(precip_init)\n",
    "def precip(t):\n",
    "    for i in range(t):\n",
    "        precip_amt = np.sin(2*i)+2*np.cos(0.7*i)-0.03\n",
    "        precip_over_time.append(precip_amt)\n",
    "    return precip_over_time\n",
    "\n",
    "def precip_intensity(t):\n",
    "    precip(t)\n",
    "    intensity_sum = [0]*(len(precip_over_time))\n",
    "    for i in range(len(precip_over_time)):\n",
    "        intensity_sum[i] = intensity_sum[i-1] + precip_over_time[i]\n",
    "    return intensity_sum\n",
    "\n",
    "precip_int = precip_intensity(m)\n",
    "print(precip_int[89])\n",
    "print(nat_temp[89]+GHG_temp[89])\n",
    "print(precip_over_time)\n",
    "print(min(precip_over_time))\n",
    "plt.plot(precip_over_time)\n",
    "\n",
    "#print(precip_int)\n",
    "#print(min(precip_int))\n",
    "plt.plot(precip_int)\n"
   ]
  },
  {
   "cell_type": "code",
   "execution_count": 94,
   "id": "e2ffac4a-90e2-418d-97f8-9c180b7adff6",
   "metadata": {},
   "outputs": [],
   "source": [
    "##### turning lists into matrices\n",
    "## GHG Temperature Anomaly Contribution \n",
    "GHG_matrix_over_time = np.zeros((n,n,m))\n",
    "for t in range(m):\n",
    "    for i in range(n):\n",
    "        for j in range(n):\n",
    "            GHG_matrix_over_time[i,j,t] = GHG_temp[t]\n",
    "            \n",
    "#print(GHG_matrix_over_time)\n",
    "\n",
    "## Natural Temperature Anomaly Contribution\n",
    "nat_matrix_over_time = np.zeros((n,n,m))\n",
    "for t in range(m):\n",
    "    for i in range(n):\n",
    "        for j in range(n):\n",
    "            nat_matrix_over_time[i,j,t] = nat_temp[t]\n",
    "\n",
    "## Precipitation Intensity\n",
    "precip_matrix_over_time = np.zeros((n,n,m))\n",
    "for t in range(m):\n",
    "    for i in range(n):\n",
    "        for j in range(n):\n",
    "            precip_matrix_over_time[i,j,t] = precip_int[t]\n",
    "            \n",
    "#print(precip_matrix_over_time[0,0,2])"
   ]
  },
  {
   "cell_type": "code",
   "execution_count": 95,
   "id": "c449b8a2",
   "metadata": {},
   "outputs": [
    {
     "name": "stdout",
     "output_type": "stream",
     "text": [
      "land\n",
      "land\n",
      "land\n",
      "land\n"
     ]
    }
   ],
   "source": [
    "def what_is(x,y):  ##inquires about the colour (nature) of a cell in the model grid\n",
    "    for k,v in geography.items():\n",
    "        if np.all(clim_model[x,y]==np.array(v)):\n",
    "            whatis=k\n",
    "    return whatis\n",
    "\n",
    "print(what_is(2,2))\n",
    "print(what_is(1,2))\n",
    "print(what_is(2,0))\n",
    "print(what_is(0,0))\n",
    "\n",
    "################################# CHANGES MADE FROM HERE\n",
    "\n",
    "def what_is_general(which_model,x,y):  ##inquires about the colour (nature) of a cell in the model grid\n",
    "    for k,v in geography.items():\n",
    "        if np.all(which_model[x,y]==np.array(v)):\n",
    "            whatis=k\n",
    "    return whatis"
   ]
  },
  {
   "cell_type": "code",
   "execution_count": 224,
   "id": "13c7ca4d-aaf1-418c-ad2f-fb667668b3b9",
   "metadata": {},
   "outputs": [
    {
     "name": "stdout",
     "output_type": "stream",
     "text": [
      "\n",
      " time 0\n"
     ]
    },
    {
     "data": {
      "image/png": "[encoded data removed]",
      "text/plain": [
       "<Figure size 300x300 with 1 Axes>"
      ]
     },
     "metadata": {},
     "output_type": "display_data"
    },
    {
     "name": "stdout",
     "output_type": "stream",
     "text": [
      "land\n",
      "\n",
      "\n",
      "\n",
      "\n",
      "time 1\n"
     ]
    },
    {
     "data": {
      "image/png": "[encoded data removed]",
      "text/plain": [
       "<Figure size 300x300 with 1 Axes>"
      ]
     },
     "metadata": {},
     "output_type": "display_data"
    },
    {
     "name": "stdout",
     "output_type": "stream",
     "text": [
      "land\n",
      "\n",
      "\n",
      "\n",
      "\n",
      "time 2\n"
     ]
    },
    {
     "data": {
      "image/png": "[encoded data removed]",
      "text/plain": [
       "<Figure size 300x300 with 1 Axes>"
      ]
     },
     "metadata": {},
     "output_type": "display_data"
    },
    {
     "name": "stdout",
     "output_type": "stream",
     "text": [
      "land\n",
      "\n",
      "\n",
      "\n",
      "\n"
     ]
    }
   ],
   "source": [
    "clim_model=np.array(grid_colours)  ## initializes the model to all land\n",
    "model_over_time=[]\n",
    "climm_model=clim_model.copy()\n",
    "model_over_time.append(climm_model)\n",
    "time_burned = np.zeros((n,n))\n",
    "\n",
    "m=100\n",
    "for t in range(m):\n",
    "    for i in range(n):\n",
    "        for j in range(n):\n",
    "            g=what_is_general(climm_model,i,j)\n",
    "            #print(g)\n",
    "            #print(\"YEAR\",t,\"  \",precip_matrix_over_time[i,j,t],GHG_matrix_over_time[i,j,t]+nat_matrix_over_time[i,j,t])           \n",
    "            if g=='land':\n",
    "                if precip_matrix_over_time[i,j,t] < -2.3 and \\\n",
    "                       GHG_matrix_over_time[i,j,t]+nat_matrix_over_time[i,j,t] > 0.85 and random.randint(0,100)>90:  \n",
    "                    clim_model[i,j] = destroyedland\n",
    "                else:\n",
    "                    clim_model[i,j] = land  # testing\n",
    "            elif g=='destroyedland':\n",
    "                time_burned[i,j] = time_burned[i,j] + 1\n",
    "                if time_burned[i,j] == recovery:\n",
    "                    clim_model[i,j]= land\n",
    "                else:\n",
    "                    clim_model[i,j]=destroyedland\n",
    "    climm_model=clim_model.copy()\n",
    "    model_over_time.append(climm_model)\n",
    "\n",
    "print('\\n time 0')\n",
    "plot_grid(model_over_time[0])\n",
    "print(what_is_general(model_over_time[0],1,2))\n",
    "print(''); print('');print(''); print('')\n",
    "\n",
    "print('time 1')\n",
    "plot_grid(model_over_time[1])\n",
    "print(what_is_general(model_over_time[1],1,2))          \n",
    "print(''); print('');print(''); print('')   \n",
    "\n",
    "print('time 2')\n",
    "plot_grid(model_over_time[2])\n",
    "print(what_is_general(model_over_time[2],1,2))\n",
    "print(''); print('');print(''); print('')\n",
    "\n"
   ]
  },
  {
   "cell_type": "code",
   "execution_count": 223,
   "id": "77e9e216",
   "metadata": {},
   "outputs": [
    {
     "name": "stdout",
     "output_type": "stream",
     "text": [
      "time 88\n"
     ]
    },
    {
     "data": {
      "image/png": "[encoded data removed]",
      "text/plain": [
       "<Figure size 300x300 with 1 Axes>"
      ]
     },
     "metadata": {},
     "output_type": "display_data"
    },
    {
     "name": "stdout",
     "output_type": "stream",
     "text": [
      "land\n",
      "\n",
      "\n",
      "\n",
      "\n",
      "time 89\n"
     ]
    },
    {
     "data": {
      "image/png": "[encoded data removed]",
      "text/plain": [
       "<Figure size 300x300 with 1 Axes>"
      ]
     },
     "metadata": {},
     "output_type": "display_data"
    },
    {
     "name": "stdout",
     "output_type": "stream",
     "text": [
      "land\n",
      "\n",
      "\n",
      "\n",
      "\n",
      "time 90\n"
     ]
    },
    {
     "data": {
      "image/png": "[encoded data removed]",
      "text/plain": [
       "<Figure size 300x300 with 1 Axes>"
      ]
     },
     "metadata": {},
     "output_type": "display_data"
    },
    {
     "name": "stdout",
     "output_type": "stream",
     "text": [
      "land\n",
      "\n",
      "\n",
      "\n",
      "\n",
      "time 91\n"
     ]
    },
    {
     "data": {
      "image/png": "[encoded data removed]",
      "text/plain": [
       "<Figure size 300x300 with 1 Axes>"
      ]
     },
     "metadata": {},
     "output_type": "display_data"
    },
    {
     "name": "stdout",
     "output_type": "stream",
     "text": [
      "land\n",
      "\n",
      "\n",
      "\n",
      "\n",
      "time 92\n"
     ]
    },
    {
     "data": {
      "image/png": "[encoded data removed]",
      "text/plain": [
       "<Figure size 300x300 with 1 Axes>"
      ]
     },
     "metadata": {},
     "output_type": "display_data"
    },
    {
     "name": "stdout",
     "output_type": "stream",
     "text": [
      "land\n",
      "\n",
      "\n",
      "\n",
      "\n",
      "time 93\n"
     ]
    },
    {
     "data": {
      "image/png": "[encoded data removed]",
      "text/plain": [
       "<Figure size 300x300 with 1 Axes>"
      ]
     },
     "metadata": {},
     "output_type": "display_data"
    },
    {
     "name": "stdout",
     "output_type": "stream",
     "text": [
      "land\n",
      "\n",
      "\n",
      "\n",
      "\n",
      "time 94\n"
     ]
    },
    {
     "data": {
      "image/png": "[encoded data removed]",
      "text/plain": [
       "<Figure size 300x300 with 1 Axes>"
      ]
     },
     "metadata": {},
     "output_type": "display_data"
    },
    {
     "name": "stdout",
     "output_type": "stream",
     "text": [
      "land\n",
      "\n",
      "\n",
      "\n",
      "\n",
      "time 95\n"
     ]
    },
    {
     "data": {
      "image/png": "[encoded data removed]",
      "text/plain": [
       "<Figure size 300x300 with 1 Axes>"
      ]
     },
     "metadata": {},
     "output_type": "display_data"
    },
    {
     "name": "stdout",
     "output_type": "stream",
     "text": [
      "land\n",
      "\n",
      "\n",
      "\n",
      "\n",
      "time 96\n"
     ]
    },
    {
     "data": {
      "image/png": "[encoded data removed]",
      "text/plain": [
       "<Figure size 300x300 with 1 Axes>"
      ]
     },
     "metadata": {},
     "output_type": "display_data"
    },
    {
     "name": "stdout",
     "output_type": "stream",
     "text": [
      "land\n",
      "\n",
      "\n",
      "\n",
      "\n",
      "time 97\n"
     ]
    },
    {
     "data": {
      "image/png": "[encoded data removed]",
      "text/plain": [
       "<Figure size 300x300 with 1 Axes>"
      ]
     },
     "metadata": {},
     "output_type": "display_data"
    },
    {
     "name": "stdout",
     "output_type": "stream",
     "text": [
      "land\n",
      "\n",
      "\n",
      "\n",
      "\n",
      "time 98\n"
     ]
    },
    {
     "data": {
      "image/png": "[encoded data removed]",
      "text/plain": [
       "<Figure size 300x300 with 1 Axes>"
      ]
     },
     "metadata": {},
     "output_type": "display_data"
    },
    {
     "name": "stdout",
     "output_type": "stream",
     "text": [
      "land\n",
      "\n",
      "\n",
      "\n",
      "\n",
      "time 99\n"
     ]
    },
    {
     "data": {
      "image/png": "[encoded data removed]",
      "text/plain": [
       "<Figure size 300x300 with 1 Axes>"
      ]
     },
     "metadata": {},
     "output_type": "display_data"
    },
    {
     "name": "stdout",
     "output_type": "stream",
     "text": [
      "destroyedland\n",
      "\n",
      "\n",
      "\n",
      "\n"
     ]
    }
   ],
   "source": [
    "check_time=88\n",
    "print('time',check_time)\n",
    "plot_grid(model_over_time[check_time])\n",
    "print(what_is_general(model_over_time[check_time],1,2))\n",
    "print(''); print('');print(''); print('')\n",
    "\n",
    "check_time=89\n",
    "print('time',check_time)\n",
    "plot_grid(model_over_time[check_time])\n",
    "print(what_is_general(model_over_time[check_time],1,2))\n",
    "print(''); print('');print(''); print('')\n",
    "\n",
    "check_time=90\n",
    "print('time',check_time)\n",
    "plot_grid(model_over_time[check_time])\n",
    "print(what_is_general(model_over_time[check_time],1,2))\n",
    "print(''); print('');print(''); print('')\n",
    "\n",
    "check_time=91\n",
    "print('time',check_time)\n",
    "plot_grid(model_over_time[check_time])\n",
    "print(what_is_general(model_over_time[check_time],1,2))\n",
    "print(''); print('');print(''); print('')\n",
    "\n",
    "check_time=92\n",
    "print('time',check_time)\n",
    "plot_grid(model_over_time[check_time])\n",
    "print(what_is_general(model_over_time[check_time],1,2))\n",
    "print(''); print('');print(''); print('')\n",
    "\n",
    "check_time=93\n",
    "print('time',check_time)\n",
    "plot_grid(model_over_time[check_time])\n",
    "print(what_is_general(model_over_time[check_time],1,2))\n",
    "print(''); print('');print(''); print('')\n",
    "\n",
    "check_time=94\n",
    "print('time',check_time)\n",
    "plot_grid(model_over_time[check_time])\n",
    "print(what_is_general(model_over_time[check_time],1,2))\n",
    "print(''); print('');print(''); print('')\n",
    "\n",
    "check_time=95\n",
    "print('time',check_time)\n",
    "plot_grid(model_over_time[check_time])\n",
    "print(what_is_general(model_over_time[check_time],1,2))\n",
    "print(''); print('');print(''); print('')\n",
    "\n",
    "check_time=96\n",
    "print('time',check_time)\n",
    "plot_grid(model_over_time[check_time])\n",
    "print(what_is_general(model_over_time[check_time],1,2))\n",
    "print(''); print('');print(''); print('')\n",
    "\n",
    "check_time=97\n",
    "print('time',check_time)\n",
    "plot_grid(model_over_time[check_time])\n",
    "print(what_is_general(model_over_time[check_time],1,2))\n",
    "print(''); print('');print(''); print('')\n",
    "\n",
    "check_time=98\n",
    "print('time',check_time)\n",
    "plot_grid(model_over_time[check_time])\n",
    "print(what_is_general(model_over_time[check_time],1,2))\n",
    "print(''); print('');print(''); print('')\n",
    "\n",
    "check_time=99\n",
    "print('time',check_time)\n",
    "plot_grid(model_over_time[check_time])\n",
    "print(what_is_general(model_over_time[check_time],1,2))\n",
    "print(''); print('');print(''); print('')"
   ]
  },
  {
   "cell_type": "code",
   "execution_count": null,
   "id": "deabde9c",
   "metadata": {},
   "outputs": [],
   "source": []
  },
  {
   "cell_type": "code",
   "execution_count": null,
   "id": "cf518122",
   "metadata": {},
   "outputs": [],
   "source": []
  },
  {
   "cell_type": "code",
   "execution_count": null,
   "id": "02fb7908",
   "metadata": {},
   "outputs": [],
   "source": []
  },
  {
   "cell_type": "code",
   "execution_count": null,
   "id": "dc5a634d",
   "metadata": {},
   "outputs": [],
   "source": []
  },
  {
   "cell_type": "code",
   "execution_count": null,
   "id": "7b478793",
   "metadata": {},
   "outputs": [],
   "source": []
  },
  {
   "cell_type": "code",
   "execution_count": 98,
   "id": "bab1ceeb",
   "metadata": {},
   "outputs": [],
   "source": [
    "################### extras"
   ]
  },
  {
   "cell_type": "code",
   "execution_count": 99,
   "id": "11329421",
   "metadata": {},
   "outputs": [
    {
     "data": {
      "image/png": "[encoded data removed]",
      "text/plain": [
       "<Figure size 300x300 with 1 Axes>"
      ]
     },
     "metadata": {},
     "output_type": "display_data"
    }
   ],
   "source": [
    "##########  plotting\n",
    "fig, ax = plt.subplots()\n",
    "#ax.imshow(model_over_time[99])\n",
    "\n",
    "# Set ticks and labels (not really needed)\n",
    "#ax.set_xticks(np.arange(0.5, n, 1))\n",
    "#ax.set_yticks(np.arange(0.5, n, 1))\n",
    "ax.tick_params(bottom=False, top=False, left=False, right=False)\n",
    "ax.set_xticklabels([])\n",
    "ax.set_yticklabels([])\n",
    "# add grid lines  \n",
    "ax.grid(color='black', linewidth=0.3)\n",
    "plt.show() "
   ]
  },
  {
   "cell_type": "code",
   "execution_count": 100,
   "id": "ae844047",
   "metadata": {},
   "outputs": [
    {
     "name": "stdout",
     "output_type": "stream",
     "text": [
      "[[[0.         0.47843137 0.25490196]\n",
      "  [0.         0.47843137 0.25490196]\n",
      "  [0.         0.47843137 0.25490196]]\n",
      "\n",
      " [[0.         0.47843137 0.25490196]\n",
      "  [0.         0.47843137 0.25490196]\n",
      "  [0.         0.47843137 0.25490196]]\n",
      "\n",
      " [[0.         0.47843137 0.25490196]\n",
      "  [0.         0.47843137 0.25490196]\n",
      "  [0.         0.47843137 0.25490196]]]\n"
     ]
    }
   ],
   "source": [
    "print(model_over_time[0])"
   ]
  },
  {
   "cell_type": "code",
   "execution_count": 101,
   "id": "149ce550",
   "metadata": {},
   "outputs": [
    {
     "name": "stdout",
     "output_type": "stream",
     "text": [
      "[[[0.         0.47843137 0.25490196]\n",
      "  [0.         0.47843137 0.25490196]\n",
      "  [0.         0.47843137 0.25490196]]\n",
      "\n",
      " [[0.         0.47843137 0.25490196]\n",
      "  [0.         0.47843137 0.25490196]\n",
      "  [0.         0.47843137 0.25490196]]\n",
      "\n",
      " [[0.         0.47843137 0.25490196]\n",
      "  [0.         0.47843137 0.25490196]\n",
      "  [0.         0.47843137 0.25490196]]]\n"
     ]
    }
   ],
   "source": [
    "print(model_over_time[1])"
   ]
  },
  {
   "cell_type": "code",
   "execution_count": 102,
   "id": "fa4748b7",
   "metadata": {},
   "outputs": [
    {
     "name": "stdout",
     "output_type": "stream",
     "text": [
      "[[[0.         0.47843137 0.25490196]\n",
      "  [0.         0.47843137 0.25490196]\n",
      "  [0.         0.47843137 0.25490196]]\n",
      "\n",
      " [[0.         0.47843137 0.25490196]\n",
      "  [0.         0.47843137 0.25490196]\n",
      "  [0.         0.47843137 0.25490196]]\n",
      "\n",
      " [[0.         0.47843137 0.25490196]\n",
      "  [0.         0.47843137 0.25490196]\n",
      "  [0.         0.47843137 0.25490196]]]\n"
     ]
    }
   ],
   "source": [
    "print(model_over_time[2])"
   ]
  },
  {
   "cell_type": "code",
   "execution_count": 103,
   "id": "81102a8e",
   "metadata": {},
   "outputs": [
    {
     "name": "stdout",
     "output_type": "stream",
     "text": [
      "[[[0.         0.47843137 0.25490196]\n",
      "  [0.         0.47843137 0.25490196]\n",
      "  [0.         0.47843137 0.25490196]]\n",
      "\n",
      " [[0.         0.47843137 0.25490196]\n",
      "  [0.         0.47843137 0.25490196]\n",
      "  [0.         0.47843137 0.25490196]]\n",
      "\n",
      " [[0.         0.47843137 0.25490196]\n",
      "  [0.         0.47843137 0.25490196]\n",
      "  [0.         0.47843137 0.25490196]]]\n"
     ]
    }
   ],
   "source": [
    "print(model_over_time[96])"
   ]
  },
  {
   "cell_type": "code",
   "execution_count": 104,
   "id": "9280d99f",
   "metadata": {},
   "outputs": [
    {
     "name": "stdout",
     "output_type": "stream",
     "text": [
      "[[[0.         0.47843137 0.25490196]\n",
      "  [0.         0.47843137 0.25490196]\n",
      "  [0.         0.47843137 0.25490196]]\n",
      "\n",
      " [[0.         0.47843137 0.25490196]\n",
      "  [1.         0.         0.        ]\n",
      "  [1.         0.         0.        ]]\n",
      "\n",
      " [[0.         0.47843137 0.25490196]\n",
      "  [0.         0.47843137 0.25490196]\n",
      "  [0.         0.47843137 0.25490196]]]\n"
     ]
    }
   ],
   "source": [
    "print(model_over_time[97])"
   ]
  },
  {
   "cell_type": "code",
   "execution_count": null,
   "id": "ec03498b",
   "metadata": {},
   "outputs": [],
   "source": []
  },
  {
   "cell_type": "code",
   "execution_count": null,
   "id": "ff776a9d",
   "metadata": {},
   "outputs": [],
   "source": []
  },
  {
   "cell_type": "code",
   "execution_count": 105,
   "id": "870bcf3d",
   "metadata": {},
   "outputs": [
    {
     "name": "stdout",
     "output_type": "stream",
     "text": [
      "[[1 2]\n",
      " [3 4]] \n",
      "\n",
      " [[1 2]\n",
      " [3 4]]\n",
      "\n",
      "[[  1   2]\n",
      " [999   4]] \n",
      "\n",
      " [[  1   2]\n",
      " [999   4]]\n"
     ]
    }
   ],
   "source": [
    "A=np.array([[1,2],[3,4]])\n",
    "B=A\n",
    "print(A,'\\n\\n',B)\n",
    "\n",
    "print('')\n",
    "\n",
    "A[1,0]=999\n",
    "print(A,'\\n\\n',B)"
   ]
  },
  {
   "cell_type": "code",
   "execution_count": 106,
   "id": "e35ec4bb",
   "metadata": {},
   "outputs": [
    {
     "name": "stdout",
     "output_type": "stream",
     "text": [
      "[[1 2]\n",
      " [3 4]] \n",
      "\n",
      " [[1 2]\n",
      " [3 4]]\n",
      "\n",
      "[[  1   2]\n",
      " [999   4]] \n",
      "\n",
      " [[1 2]\n",
      " [3 4]]\n"
     ]
    }
   ],
   "source": [
    "A=np.array([[1,2],[3,4]])\n",
    "B=A.copy()\n",
    "print(A,'\\n\\n',B)\n",
    "\n",
    "print('')\n",
    "\n",
    "A[1,0]=999\n",
    "print(A,'\\n\\n',B)"
   ]
  }
 ],
 "metadata": {
  "kernelspec": {
   "display_name": "Python 3 (ipykernel)",
   "language": "python",
   "name": "python3"
  },
  "language_info": {
   "codemirror_mode": {
    "name": "ipython",
    "version": 3
   },
   "file_extension": ".py",
   "mimetype": "text/x-python",
   "name": "python",
   "nbconvert_exporter": "python",
   "pygments_lexer": "ipython3",
   "version": "3.11.4"
  }
 },
 "nbformat": 4,
 "nbformat_minor": 5
}
